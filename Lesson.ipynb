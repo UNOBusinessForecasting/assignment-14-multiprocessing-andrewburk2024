{
  "cells": [
    {
      "cell_type": "markdown",
      "metadata": {
        "id": "8b-jufEmYcDO"
      },
      "source": [
        "# Multiprocessing\n",
        "\n",
        "Or writing programs to use multiple processor cores"
      ]
    },
    {
      "cell_type": "markdown",
      "metadata": {
        "id": "zIXQH7rFYcDU"
      },
      "source": [
        "### This lesson is based on notes from [sebastianraschka.com](http://sebastianraschka.com/Articles/2014_multiprocessing.html)\n",
        "\n",
        "What actually happens when you run code, or execute a program on a computer? If we focus on Python, what happens when we run Python code? Does our computer \"speak Python\", understand what we type, and do what we ask?\n",
        "\n",
        "It turns out that no, our computer does NOT speak Python. When we execute Python code, our code is passed to an **interpreter**. This interpreter is what reads our code and translates what we have written into what is called **machine code**. Machine code is typically not human-readable. That's the reason we have languages like Python, R, C++, Java, etc. We need a way to express logic clearly and explicitly, so that it can be translated into the kind of code that our computer DOES understand.\n",
        "\n",
        "So far, human speech (or written human language) does not translate directly to machine code.\n",
        "\n",
        "But what actually happens once we write our code, and the computer starts to run that code? We can understand the basics of this process through the following six (simplified!) steps:\n",
        "\n",
        "1) The computer allocates memory to the program\n",
        "2) The program issues a series of instructions to the processor (the thinking part of the computer)\n",
        "3) Upon completion of one instruction by the processor, the next is started\n",
        "4) Information is returned from the processor to the program as needed\n",
        "5) New instructions are sent to the processor based on information received from the processor\n",
        "6) Return to step 2, repeat until program is finished\n",
        "\n",
        "\n",
        "When a program is running, it typically has a single space in memory in which it stores all information relevant to its task. This memory space allows the information to be used by whichever part of the program requires that information to use it. Basically, think of all of the things in memory as shared assets, and different parts of the program want to be able to access them at the same time. Kind of like if you share a storage space with a friend or family member. Sometimes you'll be pulling out the camping gear, and sometimes they will be instead.\n",
        "\n",
        "Information that is accessible across the entire program are called **globally defined values**. But not all variables are global. Some variables with reduced **scope** are not available to all segments of a program. You might have valuables that you don't share with the other people using your storage space. It's kind of like that. Variables with reduced scope are only available to parts of the program that share that scope.\n",
        "\n",
        "While for people, we restrict access primarily based on keeping valuables safe, programs tend to do it in order to ensure that information is not lost or modified while it is needed by a part of the program. You wouldn't want to have someone change your budgeting spreadsheet in the middle of the month, would you?\n",
        "\n",
        "Again, **scope** is a term used to define the areas in which a given value in memory is accessible. Variables that are **Global** in scope can typically be accessed by any function or command running as part of the program. Variables that are **Local** can only be accessed within the scope in which they are defined. A variable created inside a function is said to be **local** to that function, and only available until the function is concluded. Then it is either returned to the global space, or forgotten.\n"
      ]
    },
    {
      "cell_type": "markdown",
      "metadata": {
        "id": "FvcDSu6oYcDY"
      },
      "source": [
        "\n",
        "![](https://github.com/dustywhite7/Econ8320/blob/master/SlidesCode/serialParallel.png?raw=true)\n",
        "\n",
        "One of the single biggest changes in computational technology in the recent past was the advent and spread of parallel computation. This concept is the crux of this lesson, but needs a lot of explaining, because it isn't something that we as computer USERS have to deal with. It happens behind the scenes, despite its tremendous importance.\n",
        "\n",
        "### Sequential programs\n",
        "\n",
        "When we perform tasks, some steps must be performed sequentially. This happens because one task depends on the results of the other task. For example, an American football team will only make a play on fourth down if they fail to score or convert on third down. We can't fully implement our plan for fourth down until we have seen whether or not fourth down will occur.\n",
        "\n",
        "We need to aim our penalty shot in FIFA before taking the kick. We even need to wait to complete the details for the elimination rounds of the tournament until group play has ended. Until then, we don't know enough about which teams will advance to complete the bracket.\n",
        "\n",
        "In programming speak, sequential programs are sequential because it is critical that the results of one calculation be within the **scope** of the other calculations. If one sequential calculation cannot view the results of the prior calculation, then the second function cannot be completed.\n",
        "\n",
        "### Parallel Programs\n",
        "\n",
        "On the other hand, some calculations can be performed independent of the results of other steps. These tend to be calculations that can essentially be considered separate tasks, but part of a larger overall task. Some examples include\n",
        "\n",
        "- Batch processing of files\n",
        "- Non-sequential simulations\n",
        "- Serving recommended products to many users\n",
        "- Repeated random draws\n",
        "- Rendering polygons\n",
        "\n",
        "The key difference between serial and parallel programs is the dependency (or lack of dependency) of calculations on the results of previous calculations.\n",
        "\n",
        "- Serial programs rely on previous results\n",
        "- Parallel programs do not depend on the results of other calculations\n",
        "\n",
        "Parallel programs can occur simultaneously, allowing us to accelerate execution. If we can run four calculations simultaneously, then in theory we might be able to run 100 computations in the time that a serial program might run 25 similar computations.\n",
        "\n",
        "Parallel computations have enabled advances like improved graphics in video games, and have made possible the revolution in machine learning. Let's learn how to make parallel code work for our projects, as well!\n"
      ]
    },
    {
      "cell_type": "markdown",
      "metadata": {
        "id": "NUNRV_lsYcDb"
      },
      "source": [
        "One place where parallel processing really shines is in estimating complex mathematical calculations. While some math can be solved algebraically, other math problems can only be solved computationally. The more computations we can perform in a given amount of time, the sooner we can find the solution to those problems. We can buy faster computers to speed up calculations, but we can also parallelize many calculations, giving us benefits without having to upgrade our computer!\n",
        "\n",
        "Some examples in which we will typically solve math problems with computation:\n",
        "- Estimating Producer/Consumer Surplus\n",
        "- Calculating probabilities from frequency tables\n",
        "- Integrating on complicated functional forms\n",
        "\n",
        "### Numeric Integration\n",
        "\n",
        "Often, when integrating complicated functions, there is no **algebraic** solution to the integral. This means that we need to estimate the value of the integral **numerically**. The process that we follow to estimate an integral numerically follows:\n",
        "\n",
        "1) Choose points at which to estimate the value of the function\n",
        "2) Choose bandwidth\n",
        "3) Multiply function values by bandwidth\n",
        "4) Add all estimates to calculate approximate integral\n",
        "\n",
        "![](https://github.com/dustywhite7/Econ8320/blob/master/SlidesCode/integralProcess.png?raw=true)\n",
        "\n",
        "Let's start by just defining a function to integrate. We can use\n",
        "\n",
        "$$ f(x) = \\frac{1}{1+x^2} $$\n",
        "\n",
        "as our example function. First, we need to write this function as a Python function:"
      ]
    },
    {
      "cell_type": "code",
      "execution_count": 1,
      "metadata": {
        "id": "5SUd_iv6YcDc"
      },
      "outputs": [],
      "source": [
        "# define any function here!\n",
        "def f(x):\n",
        "    # return the value of the function given x\n",
        "    return 1/(1 + x**2)"
      ]
    },
    {
      "cell_type": "markdown",
      "metadata": {
        "id": "7LnjgpWTYcDe"
      },
      "source": [
        "Now, we need to write a function that can sample from our function, and calculate the area of the sampled rectangles, and then return an approximate area."
      ]
    },
    {
      "cell_type": "code",
      "execution_count": 12,
      "metadata": {
        "colab": {
          "base_uri": "https://localhost:8080/"
        },
        "id": "eWoLrAwFYcDe",
        "outputId": "70906231-9428-4eb4-c3f3-16f747822a1c"
      },
      "outputs": [
        {
          "output_type": "execute_result",
          "data": {
            "text/plain": [
              "0.7766200216263414"
            ]
          },
          "metadata": {},
          "execution_count": 12
        }
      ],
      "source": [
        "import random\n",
        "\n",
        "def serial_integral(nSample, f, xmin, xmax):\n",
        "  # determine points of estimation\n",
        "  sample = sorted([random.uniform(xmin, xmax) for i in range(nSample)])\n",
        "  # Calculate height at each point\n",
        "  value = [f(i) for i in sample]\n",
        "  # Calculate areas of rectangles\n",
        "  # We have to specially calculate the first rectangle,\n",
        "  #   because xmin is not part of our list of samples\n",
        "  area = [(sample[0]-xmin)*value[0]] + [(sample[i]-sample[i-1])*value[i] for i in range(1, len(sample))]\n",
        "  # Return sum as an approximate integral\n",
        "  return sum(area)\n",
        "\n",
        "serial_integral(100, f, 0, 1)"
      ]
    },
    {
      "cell_type": "markdown",
      "metadata": {
        "id": "bHVjr7ZxYcDg"
      },
      "source": [
        "This is our function for actually integrating a function `f` from `xmin` to `xmax` across `nSample` random intervals. Below is a picture of how this function gets (approximately) closer to estimating the true integral value as we increase the number of points at which we sample the function. Because integration is based on randomly drawn intervals, the convergence is not smooth. If we took many integrals at each bin number, however, we would expect this plot to become smooth.\n",
        "\n",
        "![](https://github.com/dustywhite7/Econ8320/blob/master/SlidesCode/integral.png?raw=true)\n",
        "\n",
        "### Parallel calculations\n",
        "\n",
        "The ``multiprocessing`` library is designed to create multiple sub-instances of the python interpreter called processes, with each process returning values that are independent of the other processes. In order to coordinate this effort, some computational power must be assigned to send off processes and to retrieve their results upon completion.\n",
        "\n",
        "This \"overhead\" means that parallel processing is not usually justified for very simple problems, and is reserved for computationally intensive problems, or where there are very many processes to be completed in one batch.\n",
        "\n",
        "Given the overhead of parallelization, it is not worthwhile to make a parallel version of our single integral function above. Instead, it IS worthwhile to create a function that can calculate the integral many times in parallel. Like we said above, convergence is noisy, but an average value for each given number of bins should be more stable.\n",
        "\n",
        "Let's see how much time we can save by making a function that will calculate an average value in parallel when compared to a serialized alternative."
      ]
    },
    {
      "cell_type": "code",
      "execution_count": 10,
      "metadata": {
        "id": "A5r_Pj4OYcDh"
      },
      "outputs": [],
      "source": [
        "import multiprocessing as mp # This module is part of the\n",
        "\t\t\t     # python standard library\n",
        "\n",
        "def serial_average(n_bins, n_reps, f, xmin, xmax):\n",
        "  attempts = [serial_integral(n_bins, f, xmin, xmax) for i in range(n_reps)]\n",
        "  return sum(attempts)/n_reps\n",
        "\n",
        "def parallel_average(processes, n_bins, n_reps, f, xmin, xmax):\n",
        "  pool = mp.Pool(processes=processes)\n",
        "  results = [pool.apply_async(serial_integral, (n_bins, f, xmin, xmax)) for i in range(n_reps)]\n",
        "  results = [p.get() for p in results]\n",
        "  return sum(results)/n_reps"
      ]
    },
    {
      "cell_type": "markdown",
      "metadata": {
        "id": "7xpSJnJ2YcDj"
      },
      "source": [
        "Now let's explore what that function does."
      ]
    },
    {
      "cell_type": "code",
      "execution_count": 5,
      "metadata": {
        "id": "foX_gZUtYcDk"
      },
      "outputs": [],
      "source": [
        "def parallel_average(processes, n_bins, n_reps, f, xmin, xmax):\n",
        "  pool = mp.Pool(processes=processes)\n",
        "  ...\n",
        "  return ..."
      ]
    },
    {
      "cell_type": "markdown",
      "metadata": {
        "id": "d-HCjDBnYcDl"
      },
      "source": [
        "The `mp.Pool` class provides the functionality to organize our processes, and to define the degree to which we want to spread our work across various **processes**. We can specify how many active processes there should be at any time with the number of processes.\n",
        "\n",
        "We need to take care to choose the right number of processes for our machine! In general, my experience has been that performance is best when you keep the number of processes at or below the number of cores available in your computer's processor."
      ]
    },
    {
      "cell_type": "code",
      "execution_count": null,
      "metadata": {
        "id": "CHZvvcfPYcDm"
      },
      "outputs": [],
      "source": [
        "def parallel_average(processes, n_bins, n_reps, f, xmin, xmax):\n",
        "  ...\n",
        "  results = [pool.apply_async(serial_integral, (n_bins, f, xmin, xmax)) for i in range(n_reps)]\n",
        "  ...\n",
        "  return ..."
      ]
    },
    {
      "cell_type": "markdown",
      "metadata": {
        "id": "yxRYnqFhYcDm"
      },
      "source": [
        "We next use the `apply_async` method to pass the values that we want our pooled instances to calculate. We need to provide the function to be executed, as well as the arguments for the function in each iteration with each each of the arguments an element in a tuple. In our case, we are not varying the arguments, so we provide a single tuple that never changes, but we could vary those arguments whenever necessary or desirable."
      ]
    },
    {
      "cell_type": "code",
      "execution_count": null,
      "metadata": {
        "id": "Bg_t4rK3YcDn"
      },
      "outputs": [],
      "source": [
        "def parallel_average(processes, n_bins, n_reps, f, xmin, xmax):\n",
        "  ...\n",
        "  results = [p.get() for p in results]\n",
        "  ...\n",
        "  return ..."
      ]
    },
    {
      "cell_type": "markdown",
      "metadata": {
        "id": "N4zdEz7AYcDo"
      },
      "source": [
        "The next step is to use the `get()` method on each element of our returned processes. This will fetch the return statement values from each of the processes that we executed in the last line.\n",
        "\n",
        "At this point the parallel computation is complete. The remainder of the function will look and work just like the results from our `serial_average` method.\n",
        "\n",
        "\n",
        "### Timing it\n",
        "\n",
        "Next, it is time to write code that will allow us to test our parallel and serial performance."
      ]
    },
    {
      "cell_type": "code",
      "execution_count": 13,
      "metadata": {
        "id": "2nprpibXYcDo"
      },
      "outputs": [],
      "source": [
        "import timeit # library for timing execution of code\n",
        "\n",
        "benchmarks = [] # list to store our execution times\n",
        "\n",
        "benchmarks.append(timeit.Timer(lambda: serial_average(10000, 100, f, 0, 1)).timeit(number=1))\n",
        "    # Note that we need to include a second line\n",
        "    # that imports our functions from __main__.\n",
        "    # This tells the timer what needs to be IN SCOPE\n",
        "\n",
        "benchmarks.append(timeit.Timer(lambda: parallel_average(2, 10000, 100, f, 0, 1)).timeit(number=1))\n",
        "    # Need to include number of processes\n",
        "    # when timing the parallel implementation"
      ]
    },
    {
      "cell_type": "code",
      "source": [
        "benchmarks"
      ],
      "metadata": {
        "colab": {
          "base_uri": "https://localhost:8080/"
        },
        "id": "BMITRFvLgrZ3",
        "outputId": "d2de42e9-dde7-4f18-a702-781056305987"
      },
      "execution_count": 14,
      "outputs": [
        {
          "output_type": "execute_result",
          "data": {
            "text/plain": [
              "[1.1238925800000743, 1.8801652969998486]"
            ]
          },
          "metadata": {},
          "execution_count": 14
        }
      ]
    },
    {
      "cell_type": "markdown",
      "metadata": {
        "id": "lLL_N5VcYcDp"
      },
      "source": [
        "Amazing! When timing the output on my virtual machine (not at all a powerful computer), the parallel version runs nearly twice as fast (0.36 seconds vs 0.69 seconds). Even in a fairly trivial example, we see significant performance gains.\n",
        "\n",
        "When I ran a similar trial on my computer with 16 cores, I saw the following performance pattern:\n",
        "\n",
        "![w:750](https://github.com/dustywhite7/Econ8320/blob/master/SlidesCode/performance.png?raw=true)\n",
        "\n",
        "On 16 cores, the parallel version of this problem executes over 5x faster than the serial version! Some observations:\n",
        "\n",
        "- This was done on a 16-core processor, which is an expensive way to get a performance gain\n",
        "- Creating too many processes (going past 16 to 32) actually started to slow the computations down\n",
        "- We need to be aware of the hardware that we are utilizing when designing parallel code\n",
        "\n",
        "If you are unsure of how many processes you should run on your machine, the following command will show you how many CPU cores are available to Python:\n",
        "\n",
        "```python\n",
        "mp.cpu_count() # Tells us the number of available CPUs\n",
        "```\n",
        "\n",
        "Now it's your turn to give it a go!\n"
      ]
    },
    {
      "cell_type": "markdown",
      "metadata": {
        "id": "7i1fckDfYcDp"
      },
      "source": [
        "## Solve-it!\n",
        "\n",
        "Simulate 1,000 draws from a multivariate normal distribution and calculate the average value of the dependent variable, but do it 100 times! This is called \"bootstrapping\" and is a critical process in many statistical models and simulations. Draw from the following equation:\n",
        "\n",
        "$$ y = \\alpha + x_{1} + 2\\cdot x_{2} + \\frac{1}{2}x_{3} + \\epsilon $$\n",
        "\n",
        "where\n",
        "\n",
        "$\\alpha \\sim \\mathcal{N}(15,2)$, $x_1 \\sim \\mathcal{N}(3,5)$,\n",
        "\n",
        "$x_2 \\sim \\mathcal{N}(10,1)$, $x_3 \\sim \\mathcal{N}(8,8)$, and\n",
        "\n",
        "$\\epsilon \\sim \\mathcal{N}(0,1)$\n",
        "\n",
        "$\\mathcal{N}(\\mu, \\sigma)$ represents the Normal distribution with mean $\\mu$ and standard deviation $\\sigma$\n",
        "\n",
        "Write functions to generate all values and calculate . Test and time these draws using serial and parallel programming (2 cores), and report the difference in performance between the two versions.\n",
        "\n",
        "\n",
        "Call your serial function `sCalc`, and your parallel function `pCalc`, store your results from each function as a list, with the lists named `sResults` and `pResults`, respectively.\n",
        "\n",
        "Finally, store the timed values for each run as `sTime` and `pTime`, respectively. All code for this exercise should go in the cell labeled `#si-exercise` below.\n",
        "\n",
        "**NOTE: Because we are running code on a virtual machine, and because the problem is not very computationally intensive, we should not be surprised if the serial version of our code outperforms the parallel version for this assignment.**\n",
        "\n",
        "**OTHER NOTE: Because we need this to run in a reasonable amount of time, we are only running 100 rounds of sampling. Typical bootstrapping procedures default to 10,000 rounds as good practice.**"
      ]
    },
    {
      "cell_type": "code",
      "execution_count": 22,
      "metadata": {
        "colab": {
          "base_uri": "https://localhost:8080/"
        },
        "id": "VHQUvGReYcDp",
        "outputId": "30354b6d-81c9-43a6-fcc8-a31c7a0addc7"
      },
      "outputs": [
        {
          "output_type": "stream",
          "name": "stdout",
          "text": [
            "Serial Results: [41.63902718493413, 42.20830801152898, 42.147844411192516, 42.13727255872143, 41.91323579133401, 42.15772086140514, 41.75926312826267, 41.93607070581298, 42.07804324132474, 42.021752941554624, 42.011263914188135, 42.03996641263537, 41.755045602076265, 42.23304902789115, 41.70371700038799, 42.17041525767974, 42.24746822342841, 41.983046612765754, 41.93653951283697, 41.94039344143099, 41.64278703063306, 42.21719137632626, 42.23602477095889, 42.00297906134137, 41.88003192192877, 41.73353790911425, 42.09233544759148, 42.080670647820604, 41.56256953743901, 42.395947941883115, 41.96505976917416, 41.898635713252915, 41.9900046647763, 41.752467380133275, 42.362859061624796, 42.57195333034343, 41.79984232156975, 41.93255736153431, 42.226501924944166, 42.23765377547874, 42.10375892609857, 42.44510363818927, 41.823911784977625, 41.722948244048816, 41.92468852318913, 42.17627629561602, 42.364065533366066, 42.284750273662475, 42.150809790560615, 41.7628333729995, 41.56616381208857, 42.07612076199894, 41.89815061270899, 41.55530277268501, 42.009553252301274, 41.68232796829061, 42.17150318778088, 42.45448840072224, 41.43343489621136, 41.860604491870255, 42.167377329881425, 42.09472081338537, 41.9645762149414, 41.86651342791369, 41.92242108273187, 41.66483721254882, 41.79981568075811, 41.96068368194163, 42.17194644108727, 42.3346103581209, 41.69660612736603, 41.63859659734643, 42.16433353681617, 41.942492586560576, 42.09226419869998, 41.81881208786258, 42.08777996507317, 42.02571512607336, 42.47026517367006, 41.85122937960885, 41.954067898808354, 42.19242129540882, 41.68676319328151, 42.00082837776829, 41.73838508059027, 42.30219509342981, 41.84882327351388, 42.226267174281496, 42.03255581351912, 42.13504070133237, 42.20985866726729, 42.2521265266936, 42.00994201720444, 42.54747210173236, 42.16597229608516, 42.18805774540784, 41.829705786198474, 42.351809065467016, 42.04700774619376, 42.16997432991091]\n",
            "Parallel Results: [41.83732818072263, 41.81601351686545, 41.72488935412954, 42.211459951387674, 42.10559038564276, 41.999714540544986, 41.69931602337668, 42.11266500129257, 42.16696127667703, 41.99838223535288, 42.233258868744194, 41.862771694462666, 42.05016933404335, 41.91650405236344, 41.42116507154095, 41.854150379676284, 41.924422757209655, 42.52299955062137, 41.93677443524199, 41.85006485188286, 42.09043728302765, 41.99272387779802, 42.015692768113354, 42.20636622453013, 41.85949055007763, 42.06020088824522, 41.932055545678494, 42.18786508784828, 41.65118972009882, 42.219547205367945, 42.12450392580794, 41.777385891700874, 42.3889295264934, 42.43783758701759, 41.842894220473255, 42.03468273847341, 41.90415130803862, 42.0061243555034, 41.7157944058792, 41.78934995823447, 42.00371266950287, 42.349711073264494, 41.972861726650954, 41.87689344864034, 41.81981087031969, 41.98491288839308, 41.934528433734286, 41.63008766516203, 41.84565368671018, 42.22762428789819, 41.69409925885297, 42.01186993421956, 41.98150331342276, 41.70677721020343, 42.254138665015155, 41.918033450249496, 41.911940456497064, 42.37939824025072, 41.73565471595678, 42.119303379826675, 41.937176798923616, 42.3028475523762, 41.87541733333594, 42.36409473557572, 42.0030627451997, 42.16090735132657, 42.297092975771754, 42.299460087537526, 41.69974009439341, 42.523675826926976, 42.10888996839996, 42.24342986300434, 41.96830385140737, 42.08515438076554, 41.77053152734057, 41.79942246843467, 41.904423361454036, 41.896238136524595, 41.671960118476576, 41.91896768372882, 41.87447813103057, 42.354724477756776, 42.12029309226345, 42.32576170660466, 42.09081569833852, 42.15455376293929, 41.89637799102588, 41.77481410514399, 42.10589701727855, 42.09618775436089, 42.14349573210161, 41.972207595958764, 41.90014238207069, 42.03869369027012, 41.90351038614315, 42.3863495702812, 42.33077396789391, 42.304278896271526, 41.832910294726354, 41.61008299417375]\n",
            "Serial Time: 0.4674618009998994\n",
            "Parallel Time: 0.7974633909998374\n"
          ]
        }
      ],
      "source": [
        "#si-exercise\n",
        "import random\n",
        "import multiprocessing as mp\n",
        "import timeit\n",
        "\n",
        "num_draws = 100\n",
        "alpha_mean, alpha_stand = 15,2\n",
        "x1_mean, x1_stand = 3,5\n",
        "x2_mean, x2_stand = 10,1\n",
        "x3_mean, x3_stand = 8,8\n",
        "epsilon_mean, epsilon_stand = 0,1\n",
        "\n",
        "def pullDraws(_):\n",
        "  alpha = random.normalvariate(alpha_mean, alpha_stand)\n",
        "  x1 = random.normalvariate(x1_mean, x1_stand)\n",
        "  x2 = random.normalvariate(x2_mean, x2_stand)\n",
        "  x3 = random.normalvariate(x3_mean, x3_stand)\n",
        "  epsilon = random.normalvariate(epsilon_mean, epsilon_stand)\n",
        "  y = alpha + x1 + (2*x2) + (0.5*x3) + epsilon\n",
        "  return y\n",
        "\n",
        "def sCalc():\n",
        "  results = []\n",
        "  for _ in range(100):\n",
        "      draws = [pullDraws(_) for _ in range(1000)]\n",
        "      avg_y = sum(draws) / len(draws)\n",
        "      results.append(avg_y)\n",
        "  return results\n",
        "\n",
        "\n",
        "def pCalc():\n",
        "  results = []\n",
        "  num_cores = mp.cpu_count()\n",
        "  pool = mp.Pool(processes=num_cores)\n",
        "  for _ in range(100):\n",
        "      draws = pool.map(pullDraws, range(1000))\n",
        "      avg_y = sum(draws) / len(draws)\n",
        "      results.append(avg_y)\n",
        "  pool.close()\n",
        "  pool.join()\n",
        "  return results\n",
        "\n",
        "sTime = timeit.timeit(sCalc, number=1)\n",
        "sResults = sCalc()\n",
        "\n",
        "pTime = timeit.timeit(pCalc, number=1)\n",
        "pResults = pCalc()\n",
        "\n",
        "print(\"Serial Results:\", sResults)\n",
        "print(\"Parallel Results:\", pResults)\n",
        "print(\"Serial Time:\", sTime)\n",
        "print(\"Parallel Time:\", pTime)"
      ]
    }
  ],
  "metadata": {
    "celltoolbar": "Create Assignment",
    "kernelspec": {
      "display_name": "Python 3 (ipykernel)",
      "language": "python",
      "name": "python3"
    },
    "language_info": {
      "codemirror_mode": {
        "name": "ipython",
        "version": 3
      },
      "file_extension": ".py",
      "mimetype": "text/x-python",
      "name": "python",
      "nbconvert_exporter": "python",
      "pygments_lexer": "ipython3",
      "version": "3.9.13"
    },
    "colab": {
      "provenance": []
    }
  },
  "nbformat": 4,
  "nbformat_minor": 0
}